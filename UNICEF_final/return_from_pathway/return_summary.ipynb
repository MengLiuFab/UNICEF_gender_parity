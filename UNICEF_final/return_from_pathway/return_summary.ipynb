{
 "cells": [
  {
   "cell_type": "code",
   "execution_count": 1,
   "metadata": {},
   "outputs": [],
   "source": [
    "import pandas as pd\n",
    "df=pd.read_csv('return_UNICEF_benefit_with_all.csv')"
   ]
  },
  {
   "cell_type": "code",
   "execution_count": 11,
   "metadata": {},
   "outputs": [
    {
     "data": {
      "text/plain": [
       "271214411.4307273"
      ]
     },
     "execution_count": 11,
     "metadata": {},
     "output_type": "execute_result"
    }
   ],
   "source": [
    "df['sum_children'] = df[['Total_Never entered primary_pop',\t'Total_Dropped out of primary_pop',\t\n",
    "                         'Total_Still attending primary_pop', 'Total_Did not transition to lower secondary_pop',\n",
    "                         'Total_Dropped out of lower secondary_pop',\t'Total_Still attending lower secondary_pop',\n",
    "                         'Total_Did not transition to upper secondary_pop',\t'Total_Transitioned to upper secondary_pop']].sum(axis=1)\n",
    "res = df['sum_children'].sum(axis=0)\n",
    "res"
   ]
  },
  {
   "cell_type": "code",
   "execution_count": 13,
   "metadata": {},
   "outputs": [
    {
     "data": {
      "text/plain": [
       "1958219417169.0007"
      ]
     },
     "execution_count": 13,
     "metadata": {},
     "output_type": "execute_result"
    }
   ],
   "source": [
    "res = df['all_return'].sum(axis=0)\n",
    "res"
   ]
  },
  {
   "cell_type": "code",
   "execution_count": 27,
   "metadata": {},
   "outputs": [
    {
     "data": {
      "text/plain": [
       "120939126.15668851"
      ]
     },
     "execution_count": 27,
     "metadata": {},
     "output_type": "execute_result"
    }
   ],
   "source": [
    "res = df['benefit_poverty'].sum(axis=0)\n",
    "res"
   ]
  },
  {
   "cell_type": "code",
   "execution_count": 28,
   "metadata": {},
   "outputs": [
    {
     "data": {
      "text/plain": [
       "Income group\n",
       "High income            2.261600e+05\n",
       "Low income             8.709927e+06\n",
       "Lower middle income    8.157442e+07\n",
       "Upper middle income    3.042862e+07\n",
       "Name: benefit_poverty, dtype: float64"
      ]
     },
     "execution_count": 28,
     "metadata": {},
     "output_type": "execute_result"
    }
   ],
   "source": [
    "res = df.groupby(['Income group'])['benefit_poverty'].sum()\n",
    "res"
   ]
  },
  {
   "cell_type": "code",
   "execution_count": 23,
   "metadata": {},
   "outputs": [
    {
     "data": {
      "text/plain": [
       "Income group\n",
       "High income            1.533500e+05\n",
       "Low income             3.778634e+07\n",
       "Lower middle income    2.008504e+08\n",
       "Upper middle income    3.242431e+07\n",
       "Name: sum_children, dtype: float64"
      ]
     },
     "execution_count": 23,
     "metadata": {},
     "output_type": "execute_result"
    }
   ],
   "source": [
    "res = df.groupby(['Income group'])['sum_children'].sum()\n",
    "res"
   ]
  },
  {
   "cell_type": "code",
   "execution_count": 24,
   "metadata": {},
   "outputs": [
    {
     "data": {
      "text/plain": [
       "Income group\n",
       "High income            9.747240e+09\n",
       "Low income             1.800371e+11\n",
       "Lower middle income    1.199502e+12\n",
       "Upper middle income    5.689332e+11\n",
       "Name: all_return, dtype: float64"
      ]
     },
     "execution_count": 24,
     "metadata": {},
     "output_type": "execute_result"
    }
   ],
   "source": [
    "res = df.groupby(['Income group'])['all_return'].sum()\n",
    "res"
   ]
  },
  {
   "cell_type": "code",
   "execution_count": 25,
   "metadata": {},
   "outputs": [
    {
     "data": {
      "text/plain": [
       "Income group\n",
       "High income            1.805189e+09\n",
       "Low income             2.173047e+10\n",
       "Lower middle income    1.728482e+11\n",
       "Upper middle income    8.790018e+10\n",
       "Name: benefit_revenue, dtype: float64"
      ]
     },
     "execution_count": 25,
     "metadata": {},
     "output_type": "execute_result"
    }
   ],
   "source": [
    "res = df.groupby(['Income group'])['benefit_revenue'].sum()\n",
    "res"
   ]
  },
  {
   "cell_type": "code",
   "execution_count": 15,
   "metadata": {},
   "outputs": [
    {
     "data": {
      "text/plain": [
       "284284067413.39105"
      ]
     },
     "execution_count": 15,
     "metadata": {},
     "output_type": "execute_result"
    }
   ],
   "source": [
    "res = df['benefit_revenue'].sum(axis=0)\n",
    "res"
   ]
  },
  {
   "cell_type": "code",
   "execution_count": 29,
   "metadata": {},
   "outputs": [
    {
     "data": {
      "text/plain": [
       "Income group\n",
       "High income            4.317852e+03\n",
       "Low income             1.975761e+06\n",
       "Lower middle income    5.527592e+06\n",
       "Upper middle income    6.043781e+05\n",
       "Name: benefit_lives, dtype: float64"
      ]
     },
     "execution_count": 29,
     "metadata": {},
     "output_type": "execute_result"
    }
   ],
   "source": [
    "\n",
    "res = df.groupby(['Income group'])['benefit_lives'].sum()\n",
    "res"
   ]
  },
  {
   "cell_type": "code",
   "execution_count": null,
   "metadata": {},
   "outputs": [],
   "source": [
    "\n",
    "res = df['benefit_lives'].sum(axis=0)\n",
    "res"
   ]
  },
  {
   "cell_type": "code",
   "execution_count": 17,
   "metadata": {},
   "outputs": [
    {
     "data": {
      "text/plain": [
       "12666877.013333948"
      ]
     },
     "execution_count": 17,
     "metadata": {},
     "output_type": "execute_result"
    }
   ],
   "source": [
    "res = df['benefit_early_marriage'].sum(axis=0)\n",
    "res\n"
   ]
  },
  {
   "cell_type": "code",
   "execution_count": 30,
   "metadata": {},
   "outputs": [
    {
     "data": {
      "text/plain": [
       "Income group\n",
       "High income            9.711895e+03\n",
       "Low income             1.801064e+06\n",
       "Lower middle income    9.518064e+06\n",
       "Upper middle income    1.338038e+06\n",
       "Name: benefit_early_marriage, dtype: float64"
      ]
     },
     "execution_count": 30,
     "metadata": {},
     "output_type": "execute_result"
    }
   ],
   "source": [
    "\n",
    "res = df.groupby(['Income group'])['benefit_early_marriage'].sum()\n",
    "res"
   ]
  },
  {
   "cell_type": "code",
   "execution_count": 19,
   "metadata": {},
   "outputs": [
    {
     "data": {
      "text/plain": [
       "array(['Low income', 'Upper middle income', 'Lower middle income',\n",
       "       'High income'], dtype=object)"
      ]
     },
     "execution_count": 19,
     "metadata": {},
     "output_type": "execute_result"
    }
   ],
   "source": [
    "df['Income group'].unique()"
   ]
  },
  {
   "cell_type": "code",
   "execution_count": null,
   "metadata": {},
   "outputs": [],
   "source": []
  }
 ],
 "metadata": {
  "interpreter": {
   "hash": "b0e7a5cca5e0a6bee862f7b1b32c191db59115d7dfc9613f03e9be5caed23796"
  },
  "kernelspec": {
   "display_name": "Python 3.9.0 ('fabgis')",
   "language": "python",
   "name": "python3"
  },
  "language_info": {
   "codemirror_mode": {
    "name": "ipython",
    "version": 3
   },
   "file_extension": ".py",
   "mimetype": "text/x-python",
   "name": "python",
   "nbconvert_exporter": "python",
   "pygments_lexer": "ipython3",
   "version": "3.9.0"
  },
  "orig_nbformat": 4
 },
 "nbformat": 4,
 "nbformat_minor": 2
}
